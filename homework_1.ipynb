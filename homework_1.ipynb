{
 "cells": [
  {
   "cell_type": "markdown",
   "id": "6849e70c",
   "metadata": {},
   "source": [
    "Loading Data"
   ]
  },
  {
   "cell_type": "code",
   "execution_count": null,
   "id": "bd1e7fff",
   "metadata": {
    "vscode": {
     "languageId": "plaintext"
    }
   },
   "outputs": [],
   "source": [
    "import pandas as pd\n",
    "import seaborn as sns\n",
    "import matplotlib.pyplot as plt\n",
    "\n",
    "titanic = sns.load_dataset('titanic')"
   ]
  },
  {
   "cell_type": "markdown",
   "id": "1529cc41",
   "metadata": {},
   "source": [
    "TASK 1: Data exploration"
   ]
  },
  {
   "cell_type": "code",
   "execution_count": null,
   "id": "54e6b7f1",
   "metadata": {},
   "outputs": [],
   "source": [
    "# what is is type of the output?\n",
    "print(type(titanic))\n",
    "\n",
    "print(titanic.head())\n",
    "\n",
    "print(titanic.columns)\n",
    "\n",
    "print(titanic.info())\n",
    "\n",
    "print(titanic.describe())"
   ]
  }
 ],
 "metadata": {
  "language_info": {
   "name": "python"
  }
 },
 "nbformat": 4,
 "nbformat_minor": 5
}
