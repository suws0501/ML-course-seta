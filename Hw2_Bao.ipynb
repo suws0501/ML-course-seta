{
 "cells": [
  {
   "cell_type": "markdown",
   "id": "8cd8ef3f",
   "metadata": {},
   "source": [
    "Load data from .csv files"
   ]
  },
  {
   "cell_type": "code",
   "execution_count": 41,
   "id": "5f1336f9",
   "metadata": {},
   "outputs": [
    {
     "name": "stdout",
     "output_type": "stream",
     "text": [
      "airlines: 16 rows, 2 columns\n",
      "airports: 1458 rows, 8 columns\n",
      "flights: 336776 rows, 19 columns\n",
      "planes: 3322 rows, 9 columns\n",
      "weather: 26115 rows, 15 columns\n"
     ]
    }
   ],
   "source": [
    "import pandas as pd\n",
    "import matplotlib.pyplot as plt\n",
    "import seaborn as sns\n",
    "\n",
    "base_path = \"./data/\"\n",
    "\n",
    "airlines = pd.read_csv(base_path + \"nyc_airlines.csv\")\n",
    "airports = pd.read_csv(base_path + \"nyc_airports.csv\")\n",
    "flights = pd.read_csv(base_path + \"nyc_flights.csv\")\n",
    "planes = pd.read_csv(base_path + \"nyc_planes.csv\")\n",
    "weather = pd.read_csv(base_path + \"nyc_weather.csv\")\n",
    "\n",
    "# sanity check; btw check basic info: rows, cols\n",
    "for name, df in [('airlines', airlines), ('airports', airports), ('flights', flights), ('planes', planes), ('weather', weather)]:\n",
    "    print(f\"{name}: {df.shape[0]} rows, {df.shape[1]} columns\")"
   ]
  },
  {
   "cell_type": "markdown",
   "id": "527cba33",
   "metadata": {},
   "source": [
    "Exploring the flights DataFrame"
   ]
  },
  {
   "cell_type": "code",
   "execution_count": 42,
   "id": "eb3c10d2",
   "metadata": {},
   "outputs": [
    {
     "name": "stdout",
     "output_type": "stream",
     "text": [
      "Column fields:\n",
      "Index(['year', 'month', 'day', 'dep_time', 'sched_dep_time', 'dep_delay',\n",
      "       'arr_time', 'sched_arr_time', 'arr_delay', 'carrier', 'flight',\n",
      "       'tailnum', 'origin', 'dest', 'air_time', 'distance', 'hour', 'minute',\n",
      "       'time_hour'],\n",
      "      dtype='object')\n",
      "A few rows to see sample values:\n",
      "   year  month  day  dep_time  sched_dep_time  dep_delay  arr_time  \\\n",
      "0  2013      1    1     517.0             515        2.0     830.0   \n",
      "1  2013      1    1     533.0             529        4.0     850.0   \n",
      "2  2013      1    1     542.0             540        2.0     923.0   \n",
      "3  2013      1    1     544.0             545       -1.0    1004.0   \n",
      "4  2013      1    1     554.0             600       -6.0     812.0   \n",
      "\n",
      "   sched_arr_time  arr_delay carrier  flight tailnum origin dest  air_time  \\\n",
      "0             819       11.0      UA    1545  N14228    EWR  IAH     227.0   \n",
      "1             830       20.0      UA    1714  N24211    LGA  IAH     227.0   \n",
      "2             850       33.0      AA    1141  N619AA    JFK  MIA     160.0   \n",
      "3            1022      -18.0      B6     725  N804JB    JFK  BQN     183.0   \n",
      "4             837      -25.0      DL     461  N668DN    LGA  ATL     116.0   \n",
      "\n",
      "   distance  hour  minute             time_hour  \n",
      "0      1400     5      15  2013-01-01T10:00:00Z  \n",
      "1      1416     5      29  2013-01-01T10:00:00Z  \n",
      "2      1089     5      40  2013-01-01T10:00:00Z  \n",
      "3      1576     5      45  2013-01-01T10:00:00Z  \n",
      "4       762     6       0  2013-01-01T11:00:00Z  \n"
     ]
    }
   ],
   "source": [
    "print('Column fields:')\n",
    "print(flights.columns)\n",
    "\n",
    "print('A few rows to see sample values:')\n",
    "print(flights.head())"
   ]
  },
  {
   "cell_type": "markdown",
   "id": "efdfc579",
   "metadata": {},
   "source": [
    "Average and median delay"
   ]
  },
  {
   "cell_type": "code",
   "execution_count": 43,
   "id": "055b045c",
   "metadata": {},
   "outputs": [
    {
     "name": "stdout",
     "output_type": "stream",
     "text": [
      "Average departure delay: 12.64 min\n",
      "Median arrival delay: -5.00 min\n"
     ]
    }
   ],
   "source": [
    "avg_dep_delay = flights['dep_delay'].mean(skipna=True)\n",
    "median_arr_delay = flights['arr_delay'].median(skipna=True)\n",
    "print(f\"Average departure delay: {avg_dep_delay:.2f} min\")\n",
    "print(f\"Median arrival delay: {median_arr_delay:.2f} min\")"
   ]
  },
  {
   "cell_type": "markdown",
   "id": "a862dd76",
   "metadata": {},
   "source": [
    "Busiest airport interm of departure"
   ]
  },
  {
   "cell_type": "code",
   "execution_count": 44,
   "id": "2c54afff",
   "metadata": {},
   "outputs": [
    {
     "name": "stdout",
     "output_type": "stream",
     "text": [
      "Busiest departure airport: EWR\n"
     ]
    }
   ],
   "source": [
    "busiest_airport_dept = flights['origin'].value_counts().idxmax()\n",
    "print(f\"Busiest departure airport: {busiest_airport_dept}\")"
   ]
  },
  {
   "cell_type": "markdown",
   "id": "23b7eb07",
   "metadata": {},
   "source": [
    "Most common destination"
   ]
  },
  {
   "cell_type": "code",
   "execution_count": 45,
   "id": "b64548ca",
   "metadata": {},
   "outputs": [
    {
     "name": "stdout",
     "output_type": "stream",
     "text": [
      "Most common destination: ORD\n"
     ]
    }
   ],
   "source": [
    "busiest_airport_arr = flights['dest'].value_counts().idxmax()\n",
    "print(f\"Most common destination: {busiest_airport_arr}\")"
   ]
  },
  {
   "cell_type": "markdown",
   "id": "6d175d13",
   "metadata": {},
   "source": [
    "Flights departed from JFK"
   ]
  },
  {
   "cell_type": "code",
   "execution_count": 46,
   "id": "c15a2e74",
   "metadata": {},
   "outputs": [
    {
     "data": {
      "text/plain": [
       "111279"
      ]
     },
     "execution_count": 46,
     "metadata": {},
     "output_type": "execute_result"
    }
   ],
   "source": [
    "jfk_flights = flights[flights['origin'] == 'JFK']\n",
    "len(jfk_flights)\n"
   ]
  },
  {
   "cell_type": "markdown",
   "id": "0c9f32f6",
   "metadata": {},
   "source": [
    "Flights operated by Delta "
   ]
  },
  {
   "cell_type": "code",
   "execution_count": 47,
   "id": "b480e16a",
   "metadata": {},
   "outputs": [
    {
     "name": "stdout",
     "output_type": "stream",
     "text": [
      "48110\n"
     ]
    }
   ],
   "source": [
    "delta_flights = (flights['carrier'] == 'DL').sum()\n",
    "print(delta_flights)"
   ]
  },
  {
   "cell_type": "markdown",
   "id": "7999491a",
   "metadata": {},
   "source": [
    "Proportion of flights delayed > 60 "
   ]
  },
  {
   "cell_type": "code",
   "execution_count": 48,
   "id": "8bee45d3",
   "metadata": {},
   "outputs": [
    {
     "name": "stdout",
     "output_type": "stream",
     "text": [
      "Proportion delayed over 60 mins: 7.89%\n"
     ]
    }
   ],
   "source": [
    "delay_over_60 = (flights['dep_delay'] > 60).mean()\n",
    "print(f\"Proportion delayed over 60 mins: {delay_over_60:.2%}\")\n"
   ]
  },
  {
   "cell_type": "markdown",
   "id": "2c6a30b8",
   "metadata": {},
   "source": [
    "Distribution of flights per month"
   ]
  },
  {
   "cell_type": "code",
   "execution_count": 49,
   "id": "6c1495f3",
   "metadata": {},
   "outputs": [
    {
     "data": {
      "image/png": "[encoded data removed]",
      "text/plain": [
       "<Figure size 640x480 with 1 Axes>"
      ]
     },
     "metadata": {},
     "output_type": "display_data"
    }
   ],
   "source": [
    "flights['month'].value_counts().sort_index().plot(kind='bar', title='Flights per Month')\n",
    "plt.show()"
   ]
  },
  {
   "cell_type": "markdown",
   "id": "4a689699",
   "metadata": {},
   "source": [
    "Correlation between departure and delay"
   ]
  },
  {
   "cell_type": "code",
   "execution_count": 50,
   "id": "6cc77200",
   "metadata": {},
   "outputs": [
    {
     "data": {
      "text/plain": [
       "<Axes: >"
      ]
     },
     "execution_count": 50,
     "metadata": {},
     "output_type": "execute_result"
    },
    {
     "data": {
      "image/png": "[encoded data removed]",
      "text/plain": [
       "<Figure size 640x480 with 2 Axes>"
      ]
     },
     "metadata": {},
     "output_type": "display_data"
    }
   ],
   "source": [
    "corr_matrix = flights[['dep_time', 'dep_delay']].corr()\n",
    "sns.heatmap(corr_matrix, vmin=-1, vmax=1)"
   ]
  },
  {
   "cell_type": "markdown",
   "id": "ba92caf3",
   "metadata": {},
   "source": [
    "Cancellation by month"
   ]
  },
  {
   "cell_type": "code",
   "execution_count": 51,
   "id": "bd078fed",
   "metadata": {},
   "outputs": [
    {
     "data": {
      "text/plain": [
       "<Axes: title={'center': 'Cancellation Rate by Month'}, xlabel='month'>"
      ]
     },
     "execution_count": 51,
     "metadata": {},
     "output_type": "execute_result"
    },
    {
     "data": {
      "image/png": "[encoded data removed]",
      "text/plain": [
       "<Figure size 640x480 with 1 Axes>"
      ]
     },
     "metadata": {},
     "output_type": "display_data"
    }
   ],
   "source": [
    "cancelled_flights = flights.assign(cancelled=flights['dep_time'].isna())\n",
    "\n",
    "cancel_rate_by_month = cancelled_flights.groupby('month')['cancelled'].mean()\n",
    "\n",
    "cancel_rate_by_month.plot(kind='bar', title='Cancellation Rate by Month')\n"
   ]
  },
  {
   "cell_type": "markdown",
   "id": "8637f417",
   "metadata": {},
   "source": [
    "Mean departure delay by origin airport"
   ]
  },
  {
   "cell_type": "code",
   "execution_count": 52,
   "id": "17547ffa",
   "metadata": {},
   "outputs": [
    {
     "name": "stdout",
     "output_type": "stream",
     "text": [
      "origin\n",
      "EWR    15.107954\n",
      "JFK    12.112159\n",
      "LGA    10.346876\n",
      "Name: dep_delay, dtype: float64\n"
     ]
    }
   ],
   "source": [
    "avg_dep_by_airport = flights.groupby('origin')['dep_delay'].mean()\n",
    "print(avg_dep_by_airport)"
   ]
  },
  {
   "cell_type": "markdown",
   "id": "bdf5e22a",
   "metadata": {},
   "source": [
    "Top 5 destination airport"
   ]
  },
  {
   "cell_type": "code",
   "execution_count": 53,
   "id": "1c3184e2",
   "metadata": {},
   "outputs": [
    {
     "data": {
      "text/plain": [
       "dest\n",
       "ORD    17283\n",
       "ATL    17215\n",
       "LAX    16174\n",
       "BOS    15508\n",
       "MCO    14082\n",
       "Name: count, dtype: int64"
      ]
     },
     "execution_count": 53,
     "metadata": {},
     "output_type": "execute_result"
    }
   ],
   "source": [
    "top_dest = flights['dest'].value_counts().head(5)\n",
    "top_dest\n"
   ]
  },
  {
   "cell_type": "markdown",
   "id": "ba5a2d16",
   "metadata": {},
   "source": [
    "Airline with highest average arrival delay"
   ]
  },
  {
   "cell_type": "code",
   "execution_count": 54,
   "id": "c9b2c8cd",
   "metadata": {},
   "outputs": [
    {
     "data": {
      "text/html": [
       "<div>\n",
       "<style scoped>\n",
       "    .dataframe tbody tr th:only-of-type {\n",
       "        vertical-align: middle;\n",
       "    }\n",
       "\n",
       "    .dataframe tbody tr th {\n",
       "        vertical-align: top;\n",
       "    }\n",
       "\n",
       "    .dataframe thead th {\n",
       "        text-align: right;\n",
       "    }\n",
       "</style>\n",
       "<table border=\"1\" class=\"dataframe\">\n",
       "  <thead>\n",
       "    <tr style=\"text-align: right;\">\n",
       "      <th></th>\n",
       "      <th>carrier</th>\n",
       "      <th>arr_delay</th>\n",
       "      <th>name</th>\n",
       "    </tr>\n",
       "  </thead>\n",
       "  <tbody>\n",
       "    <tr>\n",
       "      <th>6</th>\n",
       "      <td>F9</td>\n",
       "      <td>21.920705</td>\n",
       "      <td>Frontier Airlines Inc.</td>\n",
       "    </tr>\n",
       "    <tr>\n",
       "      <th>7</th>\n",
       "      <td>FL</td>\n",
       "      <td>20.115906</td>\n",
       "      <td>AirTran Airways Corporation</td>\n",
       "    </tr>\n",
       "    <tr>\n",
       "      <th>5</th>\n",
       "      <td>EV</td>\n",
       "      <td>15.796431</td>\n",
       "      <td>ExpressJet Airlines Inc.</td>\n",
       "    </tr>\n",
       "    <tr>\n",
       "      <th>15</th>\n",
       "      <td>YV</td>\n",
       "      <td>15.556985</td>\n",
       "      <td>Mesa Airlines Inc.</td>\n",
       "    </tr>\n",
       "    <tr>\n",
       "      <th>10</th>\n",
       "      <td>OO</td>\n",
       "      <td>11.931034</td>\n",
       "      <td>SkyWest Airlines Inc.</td>\n",
       "    </tr>\n",
       "  </tbody>\n",
       "</table>\n",
       "</div>"
      ],
      "text/plain": [
       "   carrier  arr_delay                         name\n",
       "6       F9  21.920705       Frontier Airlines Inc.\n",
       "7       FL  20.115906  AirTran Airways Corporation\n",
       "5       EV  15.796431     ExpressJet Airlines Inc.\n",
       "15      YV  15.556985           Mesa Airlines Inc.\n",
       "10      OO  11.931034        SkyWest Airlines Inc."
      ]
     },
     "execution_count": 54,
     "metadata": {},
     "output_type": "execute_result"
    }
   ],
   "source": [
    "avg_delay_by_airline = flights.groupby('carrier')['arr_delay'].mean().reset_index()\n",
    "\n",
    "avg_delay_by_airline = avg_delay_by_airline.merge(airlines, on='carrier')\n",
    "\n",
    "avg_delay_by_airline.sort_values('arr_delay', ascending=False).head(5)\n"
   ]
  },
  {
   "cell_type": "markdown",
   "id": "5dc5f269",
   "metadata": {},
   "source": [
    "Flights per airline"
   ]
  },
  {
   "cell_type": "code",
   "execution_count": 55,
   "id": "bf1da806",
   "metadata": {},
   "outputs": [
    {
     "data": {
      "text/html": [
       "<div>\n",
       "<style scoped>\n",
       "    .dataframe tbody tr th:only-of-type {\n",
       "        vertical-align: middle;\n",
       "    }\n",
       "\n",
       "    .dataframe tbody tr th {\n",
       "        vertical-align: top;\n",
       "    }\n",
       "\n",
       "    .dataframe thead th {\n",
       "        text-align: right;\n",
       "    }\n",
       "</style>\n",
       "<table border=\"1\" class=\"dataframe\">\n",
       "  <thead>\n",
       "    <tr style=\"text-align: right;\">\n",
       "      <th></th>\n",
       "      <th>carrier</th>\n",
       "      <th>num_flights</th>\n",
       "      <th>name</th>\n",
       "    </tr>\n",
       "  </thead>\n",
       "  <tbody>\n",
       "    <tr>\n",
       "      <th>0</th>\n",
       "      <td>UA</td>\n",
       "      <td>58665</td>\n",
       "      <td>United Air Lines Inc.</td>\n",
       "    </tr>\n",
       "    <tr>\n",
       "      <th>1</th>\n",
       "      <td>B6</td>\n",
       "      <td>54635</td>\n",
       "      <td>JetBlue Airways</td>\n",
       "    </tr>\n",
       "    <tr>\n",
       "      <th>2</th>\n",
       "      <td>EV</td>\n",
       "      <td>54173</td>\n",
       "      <td>ExpressJet Airlines Inc.</td>\n",
       "    </tr>\n",
       "    <tr>\n",
       "      <th>3</th>\n",
       "      <td>DL</td>\n",
       "      <td>48110</td>\n",
       "      <td>Delta Air Lines Inc.</td>\n",
       "    </tr>\n",
       "    <tr>\n",
       "      <th>4</th>\n",
       "      <td>AA</td>\n",
       "      <td>32729</td>\n",
       "      <td>American Airlines Inc.</td>\n",
       "    </tr>\n",
       "    <tr>\n",
       "      <th>5</th>\n",
       "      <td>MQ</td>\n",
       "      <td>26397</td>\n",
       "      <td>Envoy Air</td>\n",
       "    </tr>\n",
       "    <tr>\n",
       "      <th>6</th>\n",
       "      <td>US</td>\n",
       "      <td>20536</td>\n",
       "      <td>US Airways Inc.</td>\n",
       "    </tr>\n",
       "    <tr>\n",
       "      <th>7</th>\n",
       "      <td>9E</td>\n",
       "      <td>18460</td>\n",
       "      <td>Endeavor Air Inc.</td>\n",
       "    </tr>\n",
       "    <tr>\n",
       "      <th>8</th>\n",
       "      <td>WN</td>\n",
       "      <td>12275</td>\n",
       "      <td>Southwest Airlines Co.</td>\n",
       "    </tr>\n",
       "    <tr>\n",
       "      <th>9</th>\n",
       "      <td>VX</td>\n",
       "      <td>5162</td>\n",
       "      <td>Virgin America</td>\n",
       "    </tr>\n",
       "    <tr>\n",
       "      <th>10</th>\n",
       "      <td>FL</td>\n",
       "      <td>3260</td>\n",
       "      <td>AirTran Airways Corporation</td>\n",
       "    </tr>\n",
       "    <tr>\n",
       "      <th>11</th>\n",
       "      <td>AS</td>\n",
       "      <td>714</td>\n",
       "      <td>Alaska Airlines Inc.</td>\n",
       "    </tr>\n",
       "    <tr>\n",
       "      <th>12</th>\n",
       "      <td>F9</td>\n",
       "      <td>685</td>\n",
       "      <td>Frontier Airlines Inc.</td>\n",
       "    </tr>\n",
       "    <tr>\n",
       "      <th>13</th>\n",
       "      <td>YV</td>\n",
       "      <td>601</td>\n",
       "      <td>Mesa Airlines Inc.</td>\n",
       "    </tr>\n",
       "    <tr>\n",
       "      <th>14</th>\n",
       "      <td>HA</td>\n",
       "      <td>342</td>\n",
       "      <td>Hawaiian Airlines Inc.</td>\n",
       "    </tr>\n",
       "    <tr>\n",
       "      <th>15</th>\n",
       "      <td>OO</td>\n",
       "      <td>32</td>\n",
       "      <td>SkyWest Airlines Inc.</td>\n",
       "    </tr>\n",
       "  </tbody>\n",
       "</table>\n",
       "</div>"
      ],
      "text/plain": [
       "   carrier  num_flights                         name\n",
       "0       UA        58665        United Air Lines Inc.\n",
       "1       B6        54635              JetBlue Airways\n",
       "2       EV        54173     ExpressJet Airlines Inc.\n",
       "3       DL        48110         Delta Air Lines Inc.\n",
       "4       AA        32729       American Airlines Inc.\n",
       "5       MQ        26397                    Envoy Air\n",
       "6       US        20536              US Airways Inc.\n",
       "7       9E        18460            Endeavor Air Inc.\n",
       "8       WN        12275       Southwest Airlines Co.\n",
       "9       VX         5162               Virgin America\n",
       "10      FL         3260  AirTran Airways Corporation\n",
       "11      AS          714         Alaska Airlines Inc.\n",
       "12      F9          685       Frontier Airlines Inc.\n",
       "13      YV          601           Mesa Airlines Inc.\n",
       "14      HA          342       Hawaiian Airlines Inc.\n",
       "15      OO           32        SkyWest Airlines Inc."
      ]
     },
     "execution_count": 55,
     "metadata": {},
     "output_type": "execute_result"
    }
   ],
   "source": [
    "flights_per_airline = flights['carrier'].value_counts().reset_index()\n",
    "\n",
    "flights_per_airline.columns = ['carrier', 'num_flights']\n",
    "\n",
    "flights_per_airline.merge(airlines, on='carrier')\n"
   ]
  },
  {
   "cell_type": "markdown",
   "id": "a623441f",
   "metadata": {},
   "source": [
    "Cancellation rate per airline"
   ]
  },
  {
   "cell_type": "code",
   "execution_count": 56,
   "id": "29e8a984",
   "metadata": {},
   "outputs": [
    {
     "data": {
      "text/html": [
       "<div>\n",
       "<style scoped>\n",
       "    .dataframe tbody tr th:only-of-type {\n",
       "        vertical-align: middle;\n",
       "    }\n",
       "\n",
       "    .dataframe tbody tr th {\n",
       "        vertical-align: top;\n",
       "    }\n",
       "\n",
       "    .dataframe thead th {\n",
       "        text-align: right;\n",
       "    }\n",
       "</style>\n",
       "<table border=\"1\" class=\"dataframe\">\n",
       "  <thead>\n",
       "    <tr style=\"text-align: right;\">\n",
       "      <th></th>\n",
       "      <th>carrier</th>\n",
       "      <th>cancelled</th>\n",
       "      <th>name</th>\n",
       "    </tr>\n",
       "  </thead>\n",
       "  <tbody>\n",
       "    <tr>\n",
       "      <th>0</th>\n",
       "      <td>9E</td>\n",
       "      <td>0.056555</td>\n",
       "      <td>Endeavor Air Inc.</td>\n",
       "    </tr>\n",
       "    <tr>\n",
       "      <th>1</th>\n",
       "      <td>AA</td>\n",
       "      <td>0.019432</td>\n",
       "      <td>American Airlines Inc.</td>\n",
       "    </tr>\n",
       "    <tr>\n",
       "      <th>2</th>\n",
       "      <td>AS</td>\n",
       "      <td>0.002801</td>\n",
       "      <td>Alaska Airlines Inc.</td>\n",
       "    </tr>\n",
       "    <tr>\n",
       "      <th>3</th>\n",
       "      <td>B6</td>\n",
       "      <td>0.008529</td>\n",
       "      <td>JetBlue Airways</td>\n",
       "    </tr>\n",
       "    <tr>\n",
       "      <th>4</th>\n",
       "      <td>DL</td>\n",
       "      <td>0.007254</td>\n",
       "      <td>Delta Air Lines Inc.</td>\n",
       "    </tr>\n",
       "    <tr>\n",
       "      <th>5</th>\n",
       "      <td>EV</td>\n",
       "      <td>0.052000</td>\n",
       "      <td>ExpressJet Airlines Inc.</td>\n",
       "    </tr>\n",
       "    <tr>\n",
       "      <th>6</th>\n",
       "      <td>F9</td>\n",
       "      <td>0.004380</td>\n",
       "      <td>Frontier Airlines Inc.</td>\n",
       "    </tr>\n",
       "    <tr>\n",
       "      <th>7</th>\n",
       "      <td>FL</td>\n",
       "      <td>0.022393</td>\n",
       "      <td>AirTran Airways Corporation</td>\n",
       "    </tr>\n",
       "    <tr>\n",
       "      <th>8</th>\n",
       "      <td>HA</td>\n",
       "      <td>0.000000</td>\n",
       "      <td>Hawaiian Airlines Inc.</td>\n",
       "    </tr>\n",
       "    <tr>\n",
       "      <th>9</th>\n",
       "      <td>MQ</td>\n",
       "      <td>0.046748</td>\n",
       "      <td>Envoy Air</td>\n",
       "    </tr>\n",
       "    <tr>\n",
       "      <th>10</th>\n",
       "      <td>OO</td>\n",
       "      <td>0.093750</td>\n",
       "      <td>SkyWest Airlines Inc.</td>\n",
       "    </tr>\n",
       "    <tr>\n",
       "      <th>11</th>\n",
       "      <td>UA</td>\n",
       "      <td>0.011694</td>\n",
       "      <td>United Air Lines Inc.</td>\n",
       "    </tr>\n",
       "    <tr>\n",
       "      <th>12</th>\n",
       "      <td>US</td>\n",
       "      <td>0.032285</td>\n",
       "      <td>US Airways Inc.</td>\n",
       "    </tr>\n",
       "    <tr>\n",
       "      <th>13</th>\n",
       "      <td>VX</td>\n",
       "      <td>0.006005</td>\n",
       "      <td>Virgin America</td>\n",
       "    </tr>\n",
       "    <tr>\n",
       "      <th>14</th>\n",
       "      <td>WN</td>\n",
       "      <td>0.015642</td>\n",
       "      <td>Southwest Airlines Co.</td>\n",
       "    </tr>\n",
       "    <tr>\n",
       "      <th>15</th>\n",
       "      <td>YV</td>\n",
       "      <td>0.093178</td>\n",
       "      <td>Mesa Airlines Inc.</td>\n",
       "    </tr>\n",
       "  </tbody>\n",
       "</table>\n",
       "</div>"
      ],
      "text/plain": [
       "   carrier  cancelled                         name\n",
       "0       9E   0.056555            Endeavor Air Inc.\n",
       "1       AA   0.019432       American Airlines Inc.\n",
       "2       AS   0.002801         Alaska Airlines Inc.\n",
       "3       B6   0.008529              JetBlue Airways\n",
       "4       DL   0.007254         Delta Air Lines Inc.\n",
       "5       EV   0.052000     ExpressJet Airlines Inc.\n",
       "6       F9   0.004380       Frontier Airlines Inc.\n",
       "7       FL   0.022393  AirTran Airways Corporation\n",
       "8       HA   0.000000       Hawaiian Airlines Inc.\n",
       "9       MQ   0.046748                    Envoy Air\n",
       "10      OO   0.093750        SkyWest Airlines Inc.\n",
       "11      UA   0.011694        United Air Lines Inc.\n",
       "12      US   0.032285              US Airways Inc.\n",
       "13      VX   0.006005               Virgin America\n",
       "14      WN   0.015642       Southwest Airlines Co.\n",
       "15      YV   0.093178           Mesa Airlines Inc."
      ]
     },
     "execution_count": 56,
     "metadata": {},
     "output_type": "execute_result"
    }
   ],
   "source": [
    "cancel_rate_by_airline = flights.assign(cancelled=flights['dep_time'].isna()\n",
    "                                    ).groupby('carrier')['cancelled'].mean(   \n",
    "                                    ).reset_index(\n",
    "                                    ).merge(airlines, on='carrier')\n",
    "cancel_rate_by_airline\n"
   ]
  },
  {
   "cell_type": "markdown",
   "id": "d2be47bd",
   "metadata": {},
   "source": [
    "Most common routes"
   ]
  },
  {
   "cell_type": "code",
   "execution_count": 57,
   "id": "038cec4f",
   "metadata": {},
   "outputs": [
    {
     "data": {
      "text/plain": [
       "route\n",
       "JFK-LAX    11262\n",
       "LGA-ATL    10263\n",
       "LGA-ORD     8857\n",
       "JFK-SFO     8204\n",
       "LGA-CLT     6168\n",
       "EWR-ORD     6100\n",
       "JFK-BOS     5898\n",
       "LGA-MIA     5781\n",
       "JFK-MCO     5464\n",
       "EWR-BOS     5327\n",
       "Name: count, dtype: int64"
      ]
     },
     "execution_count": 57,
     "metadata": {},
     "output_type": "execute_result"
    }
   ],
   "source": [
    "flights['route'] = flights['origin'] + '-' + flights['dest']\n",
    "\n",
    "most_common_routes = flights['route'].value_counts().head(10)\n",
    "\n",
    "most_common_routes\n"
   ]
  },
  {
   "cell_type": "markdown",
   "id": "ed34da8e",
   "metadata": {},
   "source": [
    "Merge flights with weather"
   ]
  },
  {
   "cell_type": "code",
   "execution_count": 58,
   "id": "23c31b48",
   "metadata": {},
   "outputs": [
    {
     "data": {
      "text/html": [
       "<div>\n",
       "<style scoped>\n",
       "    .dataframe tbody tr th:only-of-type {\n",
       "        vertical-align: middle;\n",
       "    }\n",
       "\n",
       "    .dataframe tbody tr th {\n",
       "        vertical-align: top;\n",
       "    }\n",
       "\n",
       "    .dataframe thead th {\n",
       "        text-align: right;\n",
       "    }\n",
       "</style>\n",
       "<table border=\"1\" class=\"dataframe\">\n",
       "  <thead>\n",
       "    <tr style=\"text-align: right;\">\n",
       "      <th></th>\n",
       "      <th>year</th>\n",
       "      <th>month</th>\n",
       "      <th>day</th>\n",
       "      <th>dep_time</th>\n",
       "      <th>sched_dep_time</th>\n",
       "      <th>dep_delay</th>\n",
       "      <th>arr_time</th>\n",
       "      <th>sched_arr_time</th>\n",
       "      <th>arr_delay</th>\n",
       "      <th>carrier</th>\n",
       "      <th>...</th>\n",
       "      <th>temp</th>\n",
       "      <th>dewp</th>\n",
       "      <th>humid</th>\n",
       "      <th>wind_dir</th>\n",
       "      <th>wind_speed</th>\n",
       "      <th>wind_gust</th>\n",
       "      <th>precip</th>\n",
       "      <th>pressure</th>\n",
       "      <th>visib</th>\n",
       "      <th>time_hour_y</th>\n",
       "    </tr>\n",
       "  </thead>\n",
       "  <tbody>\n",
       "    <tr>\n",
       "      <th>0</th>\n",
       "      <td>2013</td>\n",
       "      <td>1</td>\n",
       "      <td>1</td>\n",
       "      <td>517.0</td>\n",
       "      <td>515</td>\n",
       "      <td>2.0</td>\n",
       "      <td>830.0</td>\n",
       "      <td>819</td>\n",
       "      <td>11.0</td>\n",
       "      <td>UA</td>\n",
       "      <td>...</td>\n",
       "      <td>39.02</td>\n",
       "      <td>28.04</td>\n",
       "      <td>64.43</td>\n",
       "      <td>260.0</td>\n",
       "      <td>12.65858</td>\n",
       "      <td>NaN</td>\n",
       "      <td>0.0</td>\n",
       "      <td>1011.9</td>\n",
       "      <td>10.0</td>\n",
       "      <td>2013-01-01T10:00:00Z</td>\n",
       "    </tr>\n",
       "    <tr>\n",
       "      <th>1</th>\n",
       "      <td>2013</td>\n",
       "      <td>1</td>\n",
       "      <td>1</td>\n",
       "      <td>533.0</td>\n",
       "      <td>529</td>\n",
       "      <td>4.0</td>\n",
       "      <td>850.0</td>\n",
       "      <td>830</td>\n",
       "      <td>20.0</td>\n",
       "      <td>UA</td>\n",
       "      <td>...</td>\n",
       "      <td>39.92</td>\n",
       "      <td>24.98</td>\n",
       "      <td>54.81</td>\n",
       "      <td>250.0</td>\n",
       "      <td>14.96014</td>\n",
       "      <td>21.86482</td>\n",
       "      <td>0.0</td>\n",
       "      <td>1011.4</td>\n",
       "      <td>10.0</td>\n",
       "      <td>2013-01-01T10:00:00Z</td>\n",
       "    </tr>\n",
       "    <tr>\n",
       "      <th>2</th>\n",
       "      <td>2013</td>\n",
       "      <td>1</td>\n",
       "      <td>1</td>\n",
       "      <td>542.0</td>\n",
       "      <td>540</td>\n",
       "      <td>2.0</td>\n",
       "      <td>923.0</td>\n",
       "      <td>850</td>\n",
       "      <td>33.0</td>\n",
       "      <td>AA</td>\n",
       "      <td>...</td>\n",
       "      <td>39.02</td>\n",
       "      <td>26.96</td>\n",
       "      <td>61.63</td>\n",
       "      <td>260.0</td>\n",
       "      <td>14.96014</td>\n",
       "      <td>NaN</td>\n",
       "      <td>0.0</td>\n",
       "      <td>1012.1</td>\n",
       "      <td>10.0</td>\n",
       "      <td>2013-01-01T10:00:00Z</td>\n",
       "    </tr>\n",
       "    <tr>\n",
       "      <th>3</th>\n",
       "      <td>2013</td>\n",
       "      <td>1</td>\n",
       "      <td>1</td>\n",
       "      <td>544.0</td>\n",
       "      <td>545</td>\n",
       "      <td>-1.0</td>\n",
       "      <td>1004.0</td>\n",
       "      <td>1022</td>\n",
       "      <td>-18.0</td>\n",
       "      <td>B6</td>\n",
       "      <td>...</td>\n",
       "      <td>39.02</td>\n",
       "      <td>26.96</td>\n",
       "      <td>61.63</td>\n",
       "      <td>260.0</td>\n",
       "      <td>14.96014</td>\n",
       "      <td>NaN</td>\n",
       "      <td>0.0</td>\n",
       "      <td>1012.1</td>\n",
       "      <td>10.0</td>\n",
       "      <td>2013-01-01T10:00:00Z</td>\n",
       "    </tr>\n",
       "    <tr>\n",
       "      <th>4</th>\n",
       "      <td>2013</td>\n",
       "      <td>1</td>\n",
       "      <td>1</td>\n",
       "      <td>554.0</td>\n",
       "      <td>600</td>\n",
       "      <td>-6.0</td>\n",
       "      <td>812.0</td>\n",
       "      <td>837</td>\n",
       "      <td>-25.0</td>\n",
       "      <td>DL</td>\n",
       "      <td>...</td>\n",
       "      <td>39.92</td>\n",
       "      <td>24.98</td>\n",
       "      <td>54.81</td>\n",
       "      <td>260.0</td>\n",
       "      <td>16.11092</td>\n",
       "      <td>23.01560</td>\n",
       "      <td>0.0</td>\n",
       "      <td>1011.7</td>\n",
       "      <td>10.0</td>\n",
       "      <td>2013-01-01T11:00:00Z</td>\n",
       "    </tr>\n",
       "  </tbody>\n",
       "</table>\n",
       "<p>5 rows × 30 columns</p>\n",
       "</div>"
      ],
      "text/plain": [
       "   year  month  day  dep_time  sched_dep_time  dep_delay  arr_time  \\\n",
       "0  2013      1    1     517.0             515        2.0     830.0   \n",
       "1  2013      1    1     533.0             529        4.0     850.0   \n",
       "2  2013      1    1     542.0             540        2.0     923.0   \n",
       "3  2013      1    1     544.0             545       -1.0    1004.0   \n",
       "4  2013      1    1     554.0             600       -6.0     812.0   \n",
       "\n",
       "   sched_arr_time  arr_delay carrier  ...   temp   dewp  humid wind_dir  \\\n",
       "0             819       11.0      UA  ...  39.02  28.04  64.43    260.0   \n",
       "1             830       20.0      UA  ...  39.92  24.98  54.81    250.0   \n",
       "2             850       33.0      AA  ...  39.02  26.96  61.63    260.0   \n",
       "3            1022      -18.0      B6  ...  39.02  26.96  61.63    260.0   \n",
       "4             837      -25.0      DL  ...  39.92  24.98  54.81    260.0   \n",
       "\n",
       "   wind_speed  wind_gust  precip  pressure visib           time_hour_y  \n",
       "0    12.65858        NaN     0.0    1011.9  10.0  2013-01-01T10:00:00Z  \n",
       "1    14.96014   21.86482     0.0    1011.4  10.0  2013-01-01T10:00:00Z  \n",
       "2    14.96014        NaN     0.0    1012.1  10.0  2013-01-01T10:00:00Z  \n",
       "3    14.96014        NaN     0.0    1012.1  10.0  2013-01-01T10:00:00Z  \n",
       "4    16.11092   23.01560     0.0    1011.7  10.0  2013-01-01T11:00:00Z  \n",
       "\n",
       "[5 rows x 30 columns]"
      ]
     },
     "execution_count": 58,
     "metadata": {},
     "output_type": "execute_result"
    }
   ],
   "source": [
    "flights_weather = pd.merge(flights, weather, on=['year', 'month', 'day', 'hour', 'origin'])\n",
    "flights_weather.head()"
   ]
  },
  {
   "cell_type": "markdown",
   "id": "1d316c01",
   "metadata": {},
   "source": [
    "Correlation between temperature and delays"
   ]
  },
  {
   "cell_type": "code",
   "execution_count": 59,
   "id": "14d7caaa",
   "metadata": {},
   "outputs": [
    {
     "name": "stdout",
     "output_type": "stream",
     "text": [
      "               temp  dep_delay\n",
      "temp       1.000000   0.061491\n",
      "dep_delay  0.061491   1.000000\n"
     ]
    },
    {
     "data": {
      "text/plain": [
       "<Axes: >"
      ]
     },
     "execution_count": 59,
     "metadata": {},
     "output_type": "execute_result"
    },
    {
     "data": {
      "image/png": "[encoded data removed]",
      "text/plain": [
       "<Figure size 640x480 with 2 Axes>"
      ]
     },
     "metadata": {},
     "output_type": "display_data"
    }
   ],
   "source": [
    "corr = flights_weather[['temp', 'dep_delay']].corr()\n",
    "print(corr)\n",
    "sns.heatmap(corr, vmin=-1, vmax=1)"
   ]
  },
  {
   "cell_type": "markdown",
   "id": "7fde893c",
   "metadata": {},
   "source": [
    "Flights During Low Visibility (≤ 1 mile)"
   ]
  },
  {
   "cell_type": "code",
   "execution_count": 60,
   "id": "70107b19",
   "metadata": {},
   "outputs": [
    {
     "name": "stdout",
     "output_type": "stream",
     "text": [
      "Ratio of flight cancelled due to visiblity < 1 mile: 8.92%\n",
      "Ratio of flight cancelled due to visiblity < 2 mile: 9.10%\n"
     ]
    }
   ],
   "source": [
    "low_vis = flights_weather[flights_weather['visib'] <= 1]\n",
    "ratio_low_vis_cancelled_1 = low_vis['dep_time'].isna().mean()\n",
    "print(f\"Ratio of flight cancelled due to visiblity < 1 mile: {ratio_low_vis_cancelled_1 * 100 :.2f}%\")\n",
    "\n",
    "low_vis = flights_weather[flights_weather['visib'] <= 2]\n",
    "ratio_low_vis_cancelled_1 = low_vis['dep_time'].isna().mean()\n",
    "print(f\"Ratio of flight cancelled due to visiblity < 2 mile: {ratio_low_vis_cancelled_1 * 100 :.2f}%\")\n",
    "\n",
    "\n"
   ]
  }
 ],
 "metadata": {
  "kernelspec": {
   "display_name": "ml_env",
   "language": "python",
   "name": "python3"
  },
  "language_info": {
   "codemirror_mode": {
    "name": "ipython",
    "version": 3
   },
   "file_extension": ".py",
   "mimetype": "text/x-python",
   "name": "python",
   "nbconvert_exporter": "python",
   "pygments_lexer": "ipython3",
   "version": "3.13.7"
  }
 },
 "nbformat": 4,
 "nbformat_minor": 5
}
